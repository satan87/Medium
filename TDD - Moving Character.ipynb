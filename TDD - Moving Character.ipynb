{
 "cells": [
  {
   "cell_type": "markdown",
   "metadata": {},
   "source": [
    "## Given, a moving char, a fixed char, and a number, generate all possible strings\n",
    "1. With : A, n, 4 We will have Annn, nAnn, nnAn,nnnA\n",
    "2. With : 0, 1, 5 We will have 01111, 10111, 11011, 11101, 11110"
   ]
  },
  {
   "cell_type": "markdown",
   "metadata": {},
   "source": [
    "### STEP 1 . We try to display only the first result"
   ]
  },
  {
   "cell_type": "code",
   "execution_count": 43,
   "metadata": {},
   "outputs": [
    {
     "data": {
      "text/plain": [
       "['Annn']"
      ]
     },
     "execution_count": 43,
     "metadata": {},
     "output_type": "execute_result"
    }
   ],
   "source": [
    "# Should return [\"Annn\"]\n",
    "\n",
    "def AllPatterns(movingChar, fixedChar, length):\n",
    "    return [\"Annn\"]\n",
    "\n",
    "AllPatterns('A', 'n', 4) "
   ]
  },
  {
   "cell_type": "markdown",
   "metadata": {},
   "source": [
    "### STEP 1a. We try to display the first and second results"
   ]
  },
  {
   "cell_type": "code",
   "execution_count": 44,
   "metadata": {},
   "outputs": [
    {
     "data": {
      "text/plain": [
       "['Annn', 'nAnn']"
      ]
     },
     "execution_count": 44,
     "metadata": {},
     "output_type": "execute_result"
    }
   ],
   "source": [
    "def AllPatterns(movingChar, fixedChar, length):\n",
    "    return [\"Annn\",\"nAnn\"]\n",
    "\n",
    "AllPatterns('A', 'n', 4)"
   ]
  },
  {
   "cell_type": "markdown",
   "metadata": {},
   "source": [
    "### STEP 1a. Refactor 1 . We need to return an array"
   ]
  },
  {
   "cell_type": "code",
   "execution_count": 45,
   "metadata": {},
   "outputs": [
    {
     "data": {
      "text/plain": [
       "['Annn', 'nAnn']"
      ]
     },
     "execution_count": 45,
     "metadata": {},
     "output_type": "execute_result"
    }
   ],
   "source": [
    "def AllPatterns(movingChar, fixedChar, length):\n",
    "    result = []\n",
    "    result.append(\"Annn\")\n",
    "    result.append(\"nAnn\")\n",
    "    return result\n",
    "\n",
    "AllPatterns('A', 'n', 4)"
   ]
  },
  {
   "cell_type": "markdown",
   "metadata": {},
   "source": [
    "### STEP 1a. Refactor 2 . We separate the moving character from the fixed character"
   ]
  },
  {
   "cell_type": "code",
   "execution_count": 46,
   "metadata": {},
   "outputs": [
    {
     "data": {
      "text/plain": [
       "['Annn', 'nAnn']"
      ]
     },
     "execution_count": 46,
     "metadata": {},
     "output_type": "execute_result"
    }
   ],
   "source": [
    "def AllPatterns(movingChar, fixedChar, length):\n",
    "    result = []\n",
    "    result.append(\"A\" + \"nnn\")\n",
    "    result.append(\"n\" + \"A\" + \"nn\")\n",
    "    return result\n",
    "\n",
    "AllPatterns('A', 'n', 4)"
   ]
  },
  {
   "cell_type": "markdown",
   "metadata": {},
   "source": [
    "### STEP 1b. We try to display the first, second and third results"
   ]
  },
  {
   "cell_type": "code",
   "execution_count": 47,
   "metadata": {},
   "outputs": [
    {
     "data": {
      "text/plain": [
       "['Annn', 'nAnn', 'nnAn']"
      ]
     },
     "execution_count": 47,
     "metadata": {},
     "output_type": "execute_result"
    }
   ],
   "source": [
    "def AllPatterns(movingChar, fixedChar, length):\n",
    "    result = []\n",
    "    result.append(\"A\" + \"nnn\")\n",
    "    result.append(\"n\" + \"A\" + \"nn\")\n",
    "    result.append(\"nn\" + \"A\" + \"n\")\n",
    "    return result\n",
    "\n",
    "AllPatterns('A', 'n', 4)"
   ]
  },
  {
   "cell_type": "markdown",
   "metadata": {},
   "source": [
    "### STEP 1c. We try to display all results"
   ]
  },
  {
   "cell_type": "code",
   "execution_count": 48,
   "metadata": {},
   "outputs": [
    {
     "data": {
      "text/plain": [
       "['Annn', 'nAnn', 'nnAn', 'nnnA']"
      ]
     },
     "execution_count": 48,
     "metadata": {},
     "output_type": "execute_result"
    }
   ],
   "source": [
    "def AllPatterns(movingChar, fixedChar, length):\n",
    "    result = []\n",
    "    result.append(\"A\" + \"nnn\")\n",
    "    result.append(\"n\" + \"A\" + \"nn\")\n",
    "    result.append(\"nn\" + \"A\" + \"n\")\n",
    "    result.append(\"nnn\" + \"A\" + \"\")\n",
    "    return result\n",
    "\n",
    "AllPatterns('A', 'n', 4)"
   ]
  },
  {
   "cell_type": "markdown",
   "metadata": {},
   "source": [
    "### STEP 1c. Refactor 1 . Align the code"
   ]
  },
  {
   "cell_type": "code",
   "execution_count": 49,
   "metadata": {},
   "outputs": [
    {
     "data": {
      "text/plain": [
       "['Annn', 'nAnn', 'nnAn', 'nnnA']"
      ]
     },
     "execution_count": 49,
     "metadata": {},
     "output_type": "execute_result"
    }
   ],
   "source": [
    "def AllPatterns(movingChar, fixedChar, length):\n",
    "    result = []\n",
    "    result.append(\"\"    + \"A\" + \"nnn\")\n",
    "    result.append(\"n\"   + \"A\" + \"nn\" )\n",
    "    result.append(\"nn\"  + \"A\" + \"n\"  )\n",
    "    result.append(\"nnn\" + \"A\" + \"\"   )\n",
    "    return result\n",
    "\n",
    "AllPatterns('A', 'n', 4)"
   ]
  },
  {
   "cell_type": "markdown",
   "metadata": {},
   "source": [
    "### STEP 1c. Refactor 2 . Replace the fixed charcater repetition"
   ]
  },
  {
   "cell_type": "code",
   "execution_count": 50,
   "metadata": {},
   "outputs": [
    {
     "data": {
      "text/plain": [
       "['Annn', 'nAnn', 'nnAn', 'nnnA']"
      ]
     },
     "execution_count": 50,
     "metadata": {},
     "output_type": "execute_result"
    }
   ],
   "source": [
    "def AllPatterns(movingChar, fixedChar, length):\n",
    "    result = []\n",
    "    result.append(\"\".join(\"n\" for i in range(0)) + \"A\" + \"\".join(\"n\" for i in range(3)) )\n",
    "    result.append(\"\".join(\"n\" for i in range(1)) + \"A\" + \"\".join(\"n\" for i in range(2)) )\n",
    "    result.append(\"\".join(\"n\" for i in range(2)) + \"A\" + \"\".join(\"n\" for i in range(1)) )\n",
    "    result.append(\"\".join(\"n\" for i in range(3)) + \"A\" + \"\".join(\"n\" for i in range(0)) )\n",
    "    return result\n",
    "\n",
    "AllPatterns('A', 'n', 4)"
   ]
  },
  {
   "cell_type": "markdown",
   "metadata": {},
   "source": [
    "### STEP 1c. Refactor 3 . Code the loop"
   ]
  },
  {
   "cell_type": "code",
   "execution_count": 51,
   "metadata": {},
   "outputs": [
    {
     "data": {
      "text/plain": [
       "['Annn', 'nAnn', 'nnAn', 'nnnA']"
      ]
     },
     "execution_count": 51,
     "metadata": {},
     "output_type": "execute_result"
    }
   ],
   "source": [
    "def AllPatterns(movingChar, fixedChar, length):\n",
    "    result = []\n",
    "    for i in range(4):\n",
    "        result.append(\"\".join(\"n\" for i in range(i)) + \"A\" + \"\".join(\"n\" for i in range(4-1-i)) )\n",
    "    return result\n",
    "\n",
    "AllPatterns('A', 'n', 4)"
   ]
  },
  {
   "cell_type": "markdown",
   "metadata": {},
   "source": [
    "### STEP 1c. Refactor 4 . Replace hard coded value by parameter"
   ]
  },
  {
   "cell_type": "code",
   "execution_count": 52,
   "metadata": {},
   "outputs": [
    {
     "data": {
      "text/plain": [
       "['Annn', 'nAnn', 'nnAn', 'nnnA']"
      ]
     },
     "execution_count": 52,
     "metadata": {},
     "output_type": "execute_result"
    }
   ],
   "source": [
    "def AllPatterns(movingChar, fixedChar, length):\n",
    "    result = []\n",
    "    for i in range(length):\n",
    "        result.append(\"\".join(fixedChar for i in range(i)) + movingChar + \"\".join(fixedChar for i in range(length-1-i)) )\n",
    "    return result\n",
    "\n",
    "AllPatterns('A', 'n', 4)"
   ]
  },
  {
   "cell_type": "markdown",
   "metadata": {},
   "source": [
    "### Last test - to control"
   ]
  },
  {
   "cell_type": "code",
   "execution_count": 53,
   "metadata": {},
   "outputs": [
    {
     "data": {
      "text/plain": [
       "['01111', '10111', '11011', '11101', '11110']"
      ]
     },
     "execution_count": 53,
     "metadata": {},
     "output_type": "execute_result"
    }
   ],
   "source": [
    "AllPatterns('0', '1', 5)"
   ]
  }
 ],
 "metadata": {
  "kernelspec": {
   "display_name": "Python 3",
   "language": "python",
   "name": "python3"
  },
  "language_info": {
   "codemirror_mode": {
    "name": "ipython",
    "version": 3
   },
   "file_extension": ".py",
   "mimetype": "text/x-python",
   "name": "python",
   "nbconvert_exporter": "python",
   "pygments_lexer": "ipython3",
   "version": "3.7.4"
  },
  "toc": {
   "base_numbering": 1,
   "nav_menu": {},
   "number_sections": false,
   "sideBar": false,
   "skip_h1_title": false,
   "title_cell": "Table of Contents",
   "title_sidebar": "Contents",
   "toc_cell": false,
   "toc_position": {},
   "toc_section_display": true,
   "toc_window_display": false
  }
 },
 "nbformat": 4,
 "nbformat_minor": 2
}
